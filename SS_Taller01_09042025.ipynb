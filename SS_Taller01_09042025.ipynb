{
  "nbformat": 4,
  "nbformat_minor": 0,
  "metadata": {
    "colab": {
      "provenance": [],
      "authorship_tag": "ABX9TyPm0JkIeva5mdqJb3khJLou",
      "include_colab_link": true
    },
    "kernelspec": {
      "name": "python3",
      "display_name": "Python 3"
    },
    "language_info": {
      "name": "python"
    }
  },
  "cells": [
    {
      "cell_type": "markdown",
      "metadata": {
        "id": "view-in-github",
        "colab_type": "text"
      },
      "source": [
        "<a href=\"https://colab.research.google.com/github/spalominor/SS202501/blob/main/SS_Taller01_09042025.ipynb\" target=\"_parent\"><img src=\"https://colab.research.google.com/assets/colab-badge.svg\" alt=\"Open In Colab\"/></a>"
      ]
    },
    {
      "cell_type": "markdown",
      "source": [
        "## Práctica 1\n"
      ],
      "metadata": {
        "id": "3ssrjQe7BoHm"
      }
    },
    {
      "cell_type": "code",
      "execution_count": 80,
      "metadata": {
        "colab": {
          "base_uri": "https://localhost:8080/"
        },
        "id": "cvJpxUHtBbR6",
        "outputId": "c29390a2-2f84-4991-8b30-e05b6d12f415"
      },
      "outputs": [
        {
          "output_type": "stream",
          "name": "stdout",
          "text": [
            "Tripleta ['C', 'C', 'C'] → Promedio de intentos: 14.00\n",
            "Tripleta ['C', 'C', 'S'] → Promedio de intentos: 8.00\n",
            "Tripleta ['C', 'S', 'C'] → Promedio de intentos: 10.00\n",
            "Tripleta ['C', 'S', 'S'] → Promedio de intentos: 8.00\n",
            "Tripleta ['S', 'C', 'C'] → Promedio de intentos: 8.00\n",
            "Tripleta ['S', 'C', 'S'] → Promedio de intentos: 10.00\n",
            "Tripleta ['S', 'S', 'C'] → Promedio de intentos: 8.00\n",
            "Tripleta ['S', 'S', 'S'] → Promedio de intentos: 14.00\n"
          ]
        }
      ],
      "source": [
        "# Importación de librerías necesarias\n",
        "import random\n",
        "\n",
        "# Importación de deque para manejar la ventana de los últimos lanzamientos\n",
        "from collections import deque\n",
        "\n",
        "\n",
        "def lanzar_moneda():\n",
        "    \"\"\"\n",
        "    Simula el lanzamiento de una moneda usando la transformada inversa.\n",
        "\n",
        "    Returns:\n",
        "        str: 'C' para cara, 'S' para sello.\n",
        "    \"\"\"\n",
        "    r = random.random()\n",
        "    if r < 0.5:\n",
        "        return 'C'\n",
        "    else:\n",
        "        return 'S'\n",
        "\n",
        "\n",
        "def main(rondas):\n",
        "    \"\"\"\n",
        "    Simula 10,000 partidas para cada tripleta ganadora y calcula\n",
        "    el promedio de lanzamientos necesarios para que cada tripleta\n",
        "    aparezca como secuencia consecutiva.\n",
        "    \"\"\"\n",
        "    # Definir todas las posibles tripletas de tres lanzamientos\n",
        "    tripletas = [\n",
        "        ['C', 'C', 'C'],\n",
        "        ['C', 'C', 'S'],\n",
        "        ['C', 'S', 'C'],\n",
        "        ['C', 'S', 'S'],\n",
        "        ['S', 'C', 'C'],\n",
        "        ['S', 'C', 'S'],\n",
        "        ['S', 'S', 'C'],\n",
        "        ['S', 'S', 'S']\n",
        "    ]\n",
        "\n",
        "    # Recorrer cada tripleta como objetivo ganador\n",
        "    for t1 in tripletas:\n",
        "        # Lista para guardar los intentos de cada una de las 10,000 partidas\n",
        "        intentos_por_partida = 0\n",
        "\n",
        "        # Simular 10,000 partidas\n",
        "        for _ in range(rondas):\n",
        "            # Inicializar contador de lanzamientos\n",
        "            n = 0\n",
        "\n",
        "            # Inicializar deque para almacenar los últimos 3 lanzamientos\n",
        "            tri = deque()\n",
        "\n",
        "            # Simular una partida hasta que aparezca la tripleta objetivo\n",
        "            while True:\n",
        "                n += 1\n",
        "\n",
        "                # Lanzar la moneda y guardar el resultado\n",
        "                lanzamiento = lanzar_moneda()\n",
        "\n",
        "                # Si la ventana tiene 3 elementos, quitar el primero\n",
        "                if len(tri) == 3:\n",
        "                    tri.popleft()\n",
        "\n",
        "                # Agregar el nuevo lanzamiento a la ventana\n",
        "                tri.append(lanzamiento)\n",
        "\n",
        "                # Si ya hay 3 elementos, comparar con la tripleta objetivo\n",
        "                if list(tri) == t1:\n",
        "                    # Guardar la cantidad de intentos en esta partida\n",
        "                    intentos_por_partida += n\n",
        "\n",
        "                    # Terminar esta partida\n",
        "                    break\n",
        "\n",
        "        # Calcular el promedio de intentos para esta tripleta\n",
        "        promedio = intentos_por_partida / rondas\n",
        "\n",
        "        # Mostrar resultados para esta tripleta\n",
        "        print(f\"Tripleta {t1} → Promedio de intentos: {promedio:.2f}\")\n",
        "\n",
        "\n",
        "# Ejecutar función principal\n",
        "if __name__ == '__main__':\n",
        "    main(10000000)"
      ]
    }
  ]
}